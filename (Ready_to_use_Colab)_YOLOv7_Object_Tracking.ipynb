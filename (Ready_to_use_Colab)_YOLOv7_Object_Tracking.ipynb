{
  "nbformat": 4,
  "nbformat_minor": 0,
  "metadata": {
    "colab": {
      "provenance": [],
      "include_colab_link": true
    },
    "kernelspec": {
      "name": "python3",
      "display_name": "Python 3"
    },
    "language_info": {
      "name": "python"
    }
  },
  "cells": [
    {
      "cell_type": "markdown",
      "metadata": {
        "id": "view-in-github",
        "colab_type": "text"
      },
      "source": [
        "<a href=\"https://colab.research.google.com/github/man-like-vinny/Object-Detection-for-Drones/blob/main/(Ready_to_use_Colab)_YOLOv7_Object_Tracking.ipynb\" target=\"_parent\"><img src=\"https://colab.research.google.com/assets/colab-badge.svg\" alt=\"Open In Colab\"/></a>"
      ]
    },
    {
      "cell_type": "markdown",
      "source": [
        "GitHub Code Link : https://github.com/RizwanMunawar/yolov7-object-tracking \n",
        "\n",
        "Developer LinkedIn Profile : https://pk.linkedin.com/in/muhammadrizwanmunawar"
      ],
      "metadata": {
        "id": "aT3RRNt-wXns"
      }
    },
    {
      "cell_type": "markdown",
      "source": [
        "##### **Mount Google Drive (Not Necessary)**"
      ],
      "metadata": {
        "id": "kjrLfdBDkMIu"
      }
    },
    {
      "cell_type": "code",
      "execution_count": null,
      "metadata": {
        "id": "oRhpqcGFkD2M"
      },
      "outputs": [],
      "source": [
        "from google.colab import drive\n",
        "drive.mount (\"/content/drive\")"
      ]
    },
    {
      "cell_type": "markdown",
      "source": [
        "##### **Clone the YOLOv7 Object Tracking Code**"
      ],
      "metadata": {
        "id": "vQSDblCmkTuN"
      }
    },
    {
      "cell_type": "code",
      "source": [
        "!git clone https://github.com/RizwanMunawar/yolov7-object-tracking.git"
      ],
      "metadata": {
        "id": "lfZrwolnkYYE"
      },
      "execution_count": null,
      "outputs": []
    },
    {
      "cell_type": "markdown",
      "source": [
        "##### **Move to YOLOv7 Object Tracking Repository**"
      ],
      "metadata": {
        "id": "rX8IWV0Skbs1"
      }
    },
    {
      "cell_type": "code",
      "source": [
        "%cd \"yolov7-object-tracking\""
      ],
      "metadata": {
        "id": "Lk4PB1DMwT6V"
      },
      "execution_count": null,
      "outputs": []
    },
    {
      "cell_type": "markdown",
      "source": [
        "##### **Install requirements**"
      ],
      "metadata": {
        "id": "lWbekKgdk_h1"
      }
    },
    {
      "cell_type": "code",
      "source": [
        "!pip install -r requirements.txt\n",
        "!pip install yt-dlp"
      ],
      "metadata": {
        "id": "etoRaCfIk8rq"
      },
      "execution_count": null,
      "outputs": []
    },
    {
      "cell_type": "markdown",
      "source": [
        "##### **Download Sample Video if you don't have any for testing**"
      ],
      "metadata": {
        "id": "cFAzVwH6loU0"
      }
    },
    {
      "cell_type": "code",
      "source": [
        "!yt-dlp \"https://www.youtube.com/watch?v=ORrrKXGx2SE\""
      ],
      "metadata": {
        "id": "jsq1N3w4luqj"
      },
      "execution_count": null,
      "outputs": []
    },
    {
      "cell_type": "markdown",
      "source": [
        "##### **Detect and Track (Person Class)**"
      ],
      "metadata": {
        "id": "NPI6hQ6Cliqe"
      }
    },
    {
      "cell_type": "code",
      "source": [
        "!python detect_and_track.py \\\n",
        "--weights yolov7.pt \\\n",
        "--source \"background video ｜ people ｜ walking ｜ [ORrrKXGx2SE].webm\" \\\n",
        "--classes 0 \\\n",
        "--name \"YOLOV7 Object Tracking\""
      ],
      "metadata": {
        "id": "a5IrMh3NllrB"
      },
      "execution_count": null,
      "outputs": []
    }
  ]
}